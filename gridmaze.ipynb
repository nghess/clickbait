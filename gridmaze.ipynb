{
 "cells": [
  {
   "cell_type": "code",
   "execution_count": 127,
   "metadata": {},
   "outputs": [],
   "source": [
    "import cv2\n",
    "import numpy as np"
   ]
  },
  {
   "cell_type": "code",
   "execution_count": 128,
   "metadata": {},
   "outputs": [],
   "source": [
    "\"\"\"\n",
    "draw equally spaced grid within bounds\n",
    "choose number of active cells\n",
    "set seed\n",
    "\"\"\"\n",
    "\n",
    "class gridMaze():\n",
    "    def __init__(self, maze_bounds, maze_dims, contiguous=True):\n",
    "        assert type(maze_bounds) == tuple or list, \"Arena dims argument must be tuple or list\"\n",
    "        assert type(maze_dims) == tuple or list, \"Maze dims argument must be tuple or list\"\n",
    "        #assert maze_dims[0] >= 2, \"Maze must be at least 2 rows tall.\"\n",
    "        #assert maze_dims[1] >= 3, \"Maze must be at least 3 columns wide.\"\n",
    "        self.bounds = maze_bounds\n",
    "        self.shape = maze_dims\n",
    "        \n",
    "        cellsize_x = maze_bounds[0] // maze_dims[0]\n",
    "        cellsize_y = maze_bounds[1] // maze_dims[1]\n",
    "\n",
    "\n",
    "        # Generate Grid\n",
    "        idx = 0\n",
    "        xcoord = 0\n",
    "        ycoord = 0\n",
    "        coords = []\n",
    "        for x in range(self.shape[1]):\n",
    "            for y in range(self.shape[0]):\n",
    "                coords.append(([xcoord, ycoord],[xcoord+cellsize_x, ycoord+cellsize_y], [idx]))\n",
    "                idx += 1\n",
    "                xcoord += cellsize_x\n",
    "            ycoord += cellsize_y\n",
    "            xcoord = 0\n",
    "\n",
    "        self.cells = coords\n",
    "\n",
    "        # Generate Maze\n",
    "        \"\"\"use a while loop\n",
    "        valid neighbors are idx +- 1 and +- self.shape[0] --if parent cell is not on edge\n",
    "        how to define edge: 0 coord or // shelf.shape coord\"\"\"\n",
    "\n",
    "        \"\"\"try approach based on shared vertices instead. might skip trouble with wraparound\"\"\"\n",
    "\n",
    "        \n"
   ]
  },
  {
   "cell_type": "code",
   "execution_count": 129,
   "metadata": {},
   "outputs": [],
   "source": [
    "test = gridMaze([1200,800], [60,40])"
   ]
  },
  {
   "cell_type": "code",
   "execution_count": 130,
   "metadata": {},
   "outputs": [
    {
     "data": {
      "text/plain": [
       "[60, 40]"
      ]
     },
     "execution_count": 130,
     "metadata": {},
     "output_type": "execute_result"
    }
   ],
   "source": [
    "test.shape"
   ]
  },
  {
   "cell_type": "code",
   "execution_count": 160,
   "metadata": {},
   "outputs": [],
   "source": [
    "# Get Neighbors\n",
    "cur_cell = 119\n",
    "neighbors = []\n",
    "used_cells = [123]\n",
    "if cur_cell != 0 and cur_cell % test.shape[0] != 0:\n",
    "    neighbors.append(cur_cell-1)\n",
    "if (cur_cell+1) % test.shape[0] != 0:\n",
    "    neighbors.append(cur_cell+1)\n",
    "if cur_cell >= test.shape[0]:\n",
    "    neighbors.append(cur_cell-test.shape[0])\n",
    "if cur_cell < test.shape[0]*(test.shape[1]-1):\n",
    "    neighbors.append(cur_cell+test.shape[0])\n",
    "\n",
    "# Make sure neighbor hasn't been used previously.\n",
    "valid_cells = []\n",
    "for cell in neighbors:\n",
    "    if cell not in used_cells:\n",
    "        valid_cells.append(cell)\n",
    "neighbors = valid_cells\n"
   ]
  },
  {
   "cell_type": "code",
   "execution_count": 161,
   "metadata": {},
   "outputs": [
    {
     "data": {
      "text/plain": [
       "59"
      ]
     },
     "execution_count": 161,
     "metadata": {},
     "output_type": "execute_result"
    }
   ],
   "source": [
    "next_cell = neighbors[np.random.randint(0,len(neighbors)-1)]\n",
    "next_cell"
   ]
  },
  {
   "cell_type": "code",
   "execution_count": 162,
   "metadata": {},
   "outputs": [
    {
     "data": {
      "text/plain": [
       "[118, 59, 179]"
      ]
     },
     "execution_count": 162,
     "metadata": {},
     "output_type": "execute_result"
    }
   ],
   "source": [
    "neighbors"
   ]
  },
  {
   "cell_type": "code",
   "execution_count": 133,
   "metadata": {},
   "outputs": [],
   "source": [
    "# Visualize\n",
    "canvas = np.zeros((800,1200,3), dtype=np.uint8)\n",
    "\n",
    "# Draw grid\n",
    "for ii in range(len(test.cells)):\n",
    "    cv2.rectangle(canvas, test.cells[ii][0], test.cells[ii][1], (64,64,64), thickness=1)\n",
    "\n",
    "# Pull out a single cell \n",
    "cv2.rectangle(canvas, test.cells[cur_cell][0], test.cells[cur_cell][1], (255,0,0), thickness=-1)  # Cell 8\n",
    "\n",
    "# Plot neighbors\n",
    "for ii in neighbors:\n",
    "    cv2.rectangle(canvas, test.cells[ii][0], test.cells[ii][1], (128,0,0), thickness=-1)  # Neighbors\n",
    "\n",
    "cv2.imshow(\"grid\", canvas)\n",
    "cv2.waitKey(0)\n",
    "cv2.destroyAllWindows()"
   ]
  }
 ],
 "metadata": {
  "kernelspec": {
   "display_name": "base",
   "language": "python",
   "name": "python3"
  },
  "language_info": {
   "codemirror_mode": {
    "name": "ipython",
    "version": 3
   },
   "file_extension": ".py",
   "mimetype": "text/x-python",
   "name": "python",
   "nbconvert_exporter": "python",
   "pygments_lexer": "ipython3",
   "version": "3.11.4"
  }
 },
 "nbformat": 4,
 "nbformat_minor": 2
}
