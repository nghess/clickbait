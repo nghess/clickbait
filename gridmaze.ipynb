{
 "cells": [
  {
   "cell_type": "code",
   "execution_count": 76,
   "metadata": {},
   "outputs": [],
   "source": [
    "import cv2\n",
    "import numpy as np\n",
    "\n",
    "\"\"\"\n",
    "draw equally spaced grid within bounds\n",
    "choose number of active cells\n",
    "set seed\n",
    "\"\"\"\n",
    "\n",
    "class gridMaze():\n",
    "    def __init__(self, maze_bounds, maze_dims, contiguous=True):\n",
    "        assert type(maze_bounds) == tuple or list, \"Arena dims argument must be tuple or list\"\n",
    "        assert type(maze_dims) == tuple or list, \"Maze dims argument must be tuple or list\"\n",
    "        #assert maze_dims[0] >= 2, \"Maze must be at least 2 rows tall.\"\n",
    "        #assert maze_dims[1] >= 3, \"Maze must be at least 3 columns wide.\"\n",
    "        self.bounds = maze_bounds\n",
    "        self.shape = maze_dims\n",
    "        \n",
    "        cellsize_x = maze_bounds[0] // maze_dims[0]\n",
    "        cellsize_y = maze_bounds[1] // maze_dims[1]\n",
    "        print(cellsize_x)\n",
    "        print(cellsize_y)\n",
    "\n",
    "\n",
    "        xcoord = 0\n",
    "        ycoord = 0\n",
    "\n",
    "        coords = []\n",
    "        for x in range(self.shape[1]+1):\n",
    "            for x in range(self.shape[0]+1):\n",
    "                coords.append([xcoord, ycoord])\n",
    "                xcoord += cellsize_x\n",
    "            ycoord += cellsize_y\n",
    "            xcoord = 0\n",
    "\n",
    "        self.cells = coords\n"
   ]
  },
  {
   "cell_type": "code",
   "execution_count": 77,
   "metadata": {},
   "outputs": [
    {
     "name": "stdout",
     "output_type": "stream",
     "text": [
      "40\n",
      "40\n"
     ]
    }
   ],
   "source": [
    "test = gridMaze([120,80], [3,2])"
   ]
  },
  {
   "cell_type": "code",
   "execution_count": 78,
   "metadata": {},
   "outputs": [
    {
     "data": {
      "text/plain": [
       "[[0, 0],\n",
       " [40, 0],\n",
       " [80, 0],\n",
       " [120, 0],\n",
       " [0, 40],\n",
       " [40, 40],\n",
       " [80, 40],\n",
       " [120, 40],\n",
       " [0, 80],\n",
       " [40, 80],\n",
       " [80, 80],\n",
       " [120, 80]]"
      ]
     },
     "execution_count": 78,
     "metadata": {},
     "output_type": "execute_result"
    }
   ],
   "source": [
    "test.cells"
   ]
  }
 ],
 "metadata": {
  "kernelspec": {
   "display_name": "base",
   "language": "python",
   "name": "python3"
  },
  "language_info": {
   "codemirror_mode": {
    "name": "ipython",
    "version": 3
   },
   "file_extension": ".py",
   "mimetype": "text/x-python",
   "name": "python",
   "nbconvert_exporter": "python",
   "pygments_lexer": "ipython3",
   "version": "3.11.4"
  }
 },
 "nbformat": 4,
 "nbformat_minor": 2
}
