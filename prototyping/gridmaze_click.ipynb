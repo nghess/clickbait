{
 "cells": [
  {
   "cell_type": "code",
   "execution_count": 15,
   "metadata": {},
   "outputs": [],
   "source": [
    "import cv2\n",
    "import numpy as np"
   ]
  },
  {
   "cell_type": "code",
   "execution_count": 16,
   "metadata": {},
   "outputs": [],
   "source": [
    "\"\"\"\n",
    "draw equally spaced grid within bounds\n",
    "choose number of active cells\n",
    "set seed\n",
    "\"\"\"\n",
    "\n",
    "class gridMaze():\n",
    "    def __init__(self, maze_bounds, maze_dims, contiguous=True):\n",
    "        assert type(maze_bounds) == tuple or list, \"Arena dims argument must be tuple or list\"\n",
    "        assert type(maze_dims) == tuple or list, \"Maze dims argument must be tuple or list\"\n",
    "        #assert maze_dims[0] >= 2, \"Maze must be at least 2 rows tall.\"\n",
    "        #assert maze_dims[1] >= 3, \"Maze must be at least 3 columns wide.\"\n",
    "        self.bounds = maze_bounds\n",
    "        self.shape = maze_dims\n",
    "        \n",
    "        cellsize_x = maze_bounds[0] // maze_dims[0]\n",
    "        cellsize_y = maze_bounds[1] // maze_dims[1]\n",
    "\n",
    "\n",
    "        # Generate Grid\n",
    "        idx = 0\n",
    "        xcoord = 0\n",
    "        ycoord = 0\n",
    "        coords = []\n",
    "        for x in range(self.shape[1]):\n",
    "            for y in range(self.shape[0]):\n",
    "                coords.append(([xcoord, ycoord],[xcoord+cellsize_x, ycoord+cellsize_y], [idx]))\n",
    "                idx += 1\n",
    "                xcoord += cellsize_x\n",
    "            ycoord += cellsize_y\n",
    "            xcoord = 0\n",
    "\n",
    "        self.cells = coords\n",
    "\n",
    "\n",
    "        \n"
   ]
  },
  {
   "cell_type": "code",
   "execution_count": 17,
   "metadata": {},
   "outputs": [],
   "source": [
    "test = gridMaze([1200,800], [60,40])"
   ]
  },
  {
   "cell_type": "code",
   "execution_count": 18,
   "metadata": {},
   "outputs": [],
   "source": [
    "\n",
    "def maze(cur_cell, used_cells, avoid_cells):\n",
    "    assert type(cur_cell) == int and cur_cell <= len(test.cells), \"cur_cell must be int between 0-len(gridMaze.cells)\"\n",
    "    assert type(used_cells) == list, \"used_cells must be list\"\n",
    "\n",
    "    # Get Neighbors\n",
    "    neighbors = []\n",
    "\n",
    "    # Booleans for cells at edges of bounding box\n",
    "    if cur_cell != 0 and cur_cell % test.shape[0] != 0:\n",
    "        neighbors.append(cur_cell-1)\n",
    "    if (cur_cell+1) % test.shape[0] != 0:\n",
    "        neighbors.append(cur_cell+1)\n",
    "    if cur_cell >= test.shape[0]:\n",
    "        neighbors.append(cur_cell-test.shape[0])\n",
    "    if cur_cell < test.shape[0]*(test.shape[1]-1):\n",
    "        neighbors.append(cur_cell+test.shape[0])\n",
    "\n",
    "    # Make sure neighbor hasn't been used previously.\n",
    "    valid_cells = []\n",
    "    for cell in neighbors:\n",
    "        if cell not in used_cells and cell not in avoid_cells:\n",
    "            valid_cells.append(cell)\n",
    "    neighbors = valid_cells\n",
    "    print(neighbors)\n",
    "\n",
    "    # Append cur_cell to used_cells\n",
    "    used_cells.append(cur_cell)\n",
    "\n",
    "    # Define cells to avoid\n",
    "    up = cur_cell-test.shape[0]\n",
    "    dn = cur_cell+test.shape[0]\n",
    "    l = cur_cell - 1\n",
    "    r = cur_cell + 1\n",
    "    for cell in [up, dn, l, r]:\n",
    "        avoid_cells.append(cell)\n",
    "\n",
    "    # Pick one of the neighbors for next cur_cell\n",
    "    if len(neighbors) >= 1:\n",
    "        cur_cell = neighbors[np.random.randint(0,len(neighbors))]\n",
    "    #else:\n",
    "    #    cur_cell = neighbors[0]\n",
    "\n",
    "    #return cur_cell, used_cells, avoid_cells\n",
    "\n",
    "\n",
    "\n",
    "\n",
    "\n"
   ]
  },
  {
   "cell_type": "code",
   "execution_count": 19,
   "metadata": {},
   "outputs": [],
   "source": [
    "def mouse_click(event,x,y,flags,param):\n",
    "    if event == cv2.EVENT_LBUTTONDBLCLK:\n",
    "        print(f\"x:{x} y:{y}\")\n",
    "        #return (x,y)\n",
    "        seed_cell = len(test.cells)//2\n",
    "        cur_cell = seed_cell\n",
    "        used_cells = []\n",
    "        avoid_cells = []\n",
    "        for ii in range(1000):\n",
    "            cur_cell, used_cells, avoid_cells = maze(cur_cell, used_cells, avoid_cells)\n",
    "        return used_cells, avoid_cells\n",
    "       "
   ]
  },
  {
   "cell_type": "code",
   "execution_count": 20,
   "metadata": {},
   "outputs": [],
   "source": [
    "# print(used_cells)"
   ]
  },
  {
   "cell_type": "code",
   "execution_count": 21,
   "metadata": {},
   "outputs": [
    {
     "ename": "NameError",
     "evalue": "name 'used_cells' is not defined",
     "output_type": "error",
     "traceback": [
      "\u001b[1;31m---------------------------------------------------------------------------\u001b[0m",
      "\u001b[1;31mNameError\u001b[0m                                 Traceback (most recent call last)",
      "Cell \u001b[1;32mIn[21], line 9\u001b[0m\n\u001b[0;32m      6\u001b[0m     cv2\u001b[38;5;241m.\u001b[39mrectangle(canvas, test\u001b[38;5;241m.\u001b[39mcells[ii][\u001b[38;5;241m0\u001b[39m], test\u001b[38;5;241m.\u001b[39mcells[ii][\u001b[38;5;241m1\u001b[39m], (\u001b[38;5;241m64\u001b[39m,\u001b[38;5;241m64\u001b[39m,\u001b[38;5;241m64\u001b[39m), thickness\u001b[38;5;241m=\u001b[39m\u001b[38;5;241m1\u001b[39m)\n\u001b[0;32m      8\u001b[0m \u001b[38;5;66;03m# Plot neighbors\u001b[39;00m\n\u001b[1;32m----> 9\u001b[0m \u001b[38;5;28;01mfor\u001b[39;00m ii \u001b[38;5;129;01min\u001b[39;00m used_cells:\n\u001b[0;32m     10\u001b[0m     history \u001b[38;5;241m=\u001b[39m ii\u001b[38;5;241m/\u001b[39m\u001b[38;5;28mlen\u001b[39m(used_cells)\n\u001b[0;32m     11\u001b[0m     cv2\u001b[38;5;241m.\u001b[39mrectangle(canvas, test\u001b[38;5;241m.\u001b[39mcells[ii][\u001b[38;5;241m0\u001b[39m], test\u001b[38;5;241m.\u001b[39mcells[ii][\u001b[38;5;241m1\u001b[39m], (\u001b[38;5;241m200\u001b[39m,\u001b[38;5;241m200\u001b[39m,\u001b[38;5;241m200\u001b[39m), thickness\u001b[38;5;241m=\u001b[39m\u001b[38;5;241m1\u001b[39m)  \u001b[38;5;66;03m# Neighbors\u001b[39;00m\n",
      "\u001b[1;31mNameError\u001b[0m: name 'used_cells' is not defined"
     ]
    }
   ],
   "source": [
    "# Visualize\n",
    "canvas = np.zeros((800,1200,3), dtype=np.uint8)\n",
    "\n",
    "# Draw grid\n",
    "for ii in range(len(test.cells)):\n",
    "    cv2.rectangle(canvas, test.cells[ii][0], test.cells[ii][1], (64,64,64), thickness=1)\n",
    "\n",
    "# Plot neighbors\n",
    "for ii in used_cells:\n",
    "    history = ii/len(used_cells)\n",
    "    cv2.rectangle(canvas, test.cells[ii][0], test.cells[ii][1], (200,200,200), thickness=1)  # Neighbors\n",
    "\n",
    "# Pull out a single cell \n",
    "cv2.rectangle(canvas, test.cells[seed_cell][0], test.cells[seed_cell][1], (255,255,255), thickness=-1)  # Seed cell\n",
    "\n",
    "cv2.imshow(\"grid\", canvas)\n",
    "cv2.setMouseCallback(\"grid\", mouse_click)\n",
    "cv2.waitKey(0)\n",
    "cv2.destroyAllWindows()"
   ]
  }
 ],
 "metadata": {
  "kernelspec": {
   "display_name": "base",
   "language": "python",
   "name": "python3"
  },
  "language_info": {
   "codemirror_mode": {
    "name": "ipython",
    "version": 3
   },
   "file_extension": ".py",
   "mimetype": "text/x-python",
   "name": "python",
   "nbconvert_exporter": "python",
   "pygments_lexer": "ipython3",
   "version": "3.11.4"
  }
 },
 "nbformat": 4,
 "nbformat_minor": 2
}
